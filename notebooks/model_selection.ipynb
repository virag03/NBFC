{
 "cells": [
  {
   "cell_type": "code",
   "execution_count": 1,
   "metadata": {},
   "outputs": [
    {
     "name": "stdout",
     "output_type": "stream",
     "text": [
      "Random Forest selected as the best model.\n"
     ]
    }
   ],
   "source": [
    "# Logistic Regression Accuracy\n",
    "logistic_accuracy = 0.7622356096917462\n",
    "\n",
    "# Random Forest Accuracy\n",
    "rf_accuracy =  0.7635987863330548\n",
    "\n",
    "# Select the best model\n",
    "if rf_accuracy > logistic_accuracy:\n",
    "    print(\"Random Forest selected as the best model.\")\n",
    "else:\n",
    "    print(\"Logistic Regression selected as the best model.\")\n"
   ]
  }
 ],
 "metadata": {
  "kernelspec": {
   "display_name": "Python 3",
   "language": "python",
   "name": "python3"
  },
  "language_info": {
   "codemirror_mode": {
    "name": "ipython",
    "version": 3
   },
   "file_extension": ".py",
   "mimetype": "text/x-python",
   "name": "python",
   "nbconvert_exporter": "python",
   "pygments_lexer": "ipython3",
   "version": "3.11.0"
  }
 },
 "nbformat": 4,
 "nbformat_minor": 2
}
